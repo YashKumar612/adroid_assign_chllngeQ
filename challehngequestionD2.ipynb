{
 "cells": [
  {
   "cell_type": "code",
   "execution_count": 1,
   "metadata": {},
   "outputs": [
    {
     "name": "stdout",
     "output_type": "stream",
     "text": [
      "['Ram', 1, 'Shyam', 2, 'Aman', 3]\n",
      "[1, 2, 3, 'Aman', 'Ram', 'Shyam']\n"
     ]
    }
   ],
   "source": [
    "# Here's the corrected code:\n",
    "L = [\"Ram\", 1, \"Shyam\", 2, \"Aman\", 3]\n",
    "print(L)\n",
    "L.sort(key=lambda x: str(x))\n",
    "print(L)"
   ]
  }
 ],
 "metadata": {
  "kernelspec": {
   "display_name": "Python 3.9.6 64-bit",
   "language": "python",
   "name": "python3"
  },
  "language_info": {
   "codemirror_mode": {
    "name": "ipython",
    "version": 3
   },
   "file_extension": ".py",
   "mimetype": "text/x-python",
   "name": "python",
   "nbconvert_exporter": "python",
   "pygments_lexer": "ipython3",
   "version": "3.9.6"
  },
  "orig_nbformat": 4,
  "vscode": {
   "interpreter": {
    "hash": "7812ea015bdcee6f23a998adcdd2ef97c151c0c241b7b7070987d9313e41299d"
   }
  }
 },
 "nbformat": 4,
 "nbformat_minor": 2
}
